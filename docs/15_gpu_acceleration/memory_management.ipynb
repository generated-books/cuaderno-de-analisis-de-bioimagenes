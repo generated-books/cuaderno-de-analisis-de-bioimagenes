{
 "cells": [
  {
   "cell_type": "markdown",
   "id": "cb1fdbe0",
   "metadata": {},
   "source": [
    "# Rastreo del consumo de memoria\n",
    "Al configurar flujos de trabajo complejos, puede tener sentido echar un vistazo al consumo de memoria. En entornos interactivos, el usuario puede utilizar el Administrador de tareas de Windows para ver qu\u00e9 tan ocupada est\u00e1 la memoria de la GPU. Esto podr\u00eda ser engorroso para la creaci\u00f3n de scripts. Cuando se usa una GPU de NVIDIA, se puede utilizar el siguiente procedimiento para depurar el consumo de memoria del flujo de trabajo."
   ]
  },
  {
   "cell_type": "code",
   "execution_count": 1,
   "id": "01a6ede9",
   "metadata": {},
   "outputs": [
    {
     "data": {
      "text/plain": [
       "<NVIDIA GeForce RTX 3050 Ti Laptop GPU on Platform: NVIDIA CUDA (1 refs)>"
      ]
     },
     "execution_count": 1,
     "metadata": {},
     "output_type": "execute_result"
    }
   ],
   "source": [
    "import numpy as np\n",
    "import pyclesperanto_prototype as cle\n",
    "\n",
    "cle.select_device(\"RTX\")"
   ]
  },
  {
   "cell_type": "markdown",
   "id": "8a0e81e0",
   "metadata": {},
   "source": [
    "Para supervisar el consumo de memoria, se puede utilizar [nvidia-smi](https://nvidia.custhelp.com/app/answers/detail/a_id/3751/~/useful-nvidia-smi-queries), una herramienta de l\u00ednea de comandos que puede imprimir cu\u00e1nta memoria est\u00e1 actualmente bloqueada en una GPU determinada, por cualquier aplicaci\u00f3n:"
   ]
  },
  {
   "cell_type": "code",
   "execution_count": 2,
   "id": "bedbd481",
   "metadata": {},
   "outputs": [
    {
     "name": "stdout",
     "output_type": "stream",
     "text": [
      "memory.used [MiB]\n",
      "178 MiB\n"
     ]
    }
   ],
   "source": [
    "!nvidia-smi --query-gpu=memory.used --format=csv"
   ]
  },
  {
   "cell_type": "markdown",
   "id": "3ed5c332",
   "metadata": {},
   "source": [
    "Si luego ejecutamos una operaci\u00f3n en la GPU y verificamos el consumo de memoria nuevamente, deber\u00edamos ver un aumento."
   ]
  },
  {
   "cell_type": "code",
   "execution_count": 3,
   "id": "2f06ebac",
   "metadata": {},
   "outputs": [],
   "source": [
    "image = np.random.random((1024, 1024, 100))\n",
    "\n",
    "blurred = cle.gaussian_blur(image)"
   ]
  },
  {
   "cell_type": "code",
   "execution_count": 4,
   "id": "f5328a54",
   "metadata": {},
   "outputs": [
    {
     "name": "stdout",
     "output_type": "stream",
     "text": [
      "memory.used [MiB]\n",
      "580 MiB\n"
     ]
    }
   ],
   "source": [
    "!nvidia-smi --query-gpu=memory.used --format=csv"
   ]
  },
  {
   "cell_type": "markdown",
   "id": "9587fb0c",
   "metadata": {},
   "source": [
    "El comando `del` permite liberar memoria. Nota: La memoria detr\u00e1s de la variable puede no liberarse inmediatamente, dependiendo de qu\u00e9 tan ocupado est\u00e9 el sistema en ese momento."
   ]
  },
  {
   "cell_type": "code",
   "execution_count": 5,
   "id": "39400e4a",
   "metadata": {},
   "outputs": [],
   "source": [
    "del blurred"
   ]
  },
  {
   "cell_type": "code",
   "execution_count": 6,
   "id": "8bef3a3f",
   "metadata": {},
   "outputs": [
    {
     "name": "stdout",
     "output_type": "stream",
     "text": [
      "memory.used [MiB]\n",
      "180 MiB\n"
     ]
    }
   ],
   "source": [
    "!nvidia-smi --query-gpu=memory.used --format=csv"
   ]
  },
  {
   "cell_type": "code",
   "execution_count": null,
   "id": "fdcd417c",
   "metadata": {},
   "outputs": [],
   "source": []
  }
 ],
 "metadata": {
  "kernelspec": {
   "display_name": "Python 3 (ipykernel)",
   "language": "python",
   "name": "python3"
  },
  "language_info": {
   "codemirror_mode": {
    "name": "ipython",
    "version": 3
   },
   "file_extension": ".py",
   "mimetype": "text/x-python",
   "name": "python",
   "nbconvert_exporter": "python",
   "pygments_lexer": "ipython3",
   "version": "3.9.9"
  }
 },
 "nbformat": 4,
 "nbformat_minor": 5
}