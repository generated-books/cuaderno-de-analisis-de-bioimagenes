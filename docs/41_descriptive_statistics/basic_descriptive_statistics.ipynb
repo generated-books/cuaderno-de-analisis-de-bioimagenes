{
 "cells": [
  {
   "cell_type": "markdown",
   "id": "f6dc47ed-b5c4-4e23-8af3-365fa5aea930",
   "metadata": {},
   "source": [
    "# Estad\u00edsticas descriptivas\n",
    "El t\u00e9rmino [estad\u00edsticas descriptivas](https://en.wikipedia.org/wiki/Descriptive_statistics) se refiere a m\u00e9todos que permiten resumir colecciones de datos. Para demostrar los m\u00e9todos m\u00e1s importantes, comenzamos definiendo primero un conjunto de datos."
   ]
  },
  {
   "cell_type": "code",
   "execution_count": 1,
   "id": "52c2d369-3c34-42f1-860d-4b15aa0a56fb",
   "metadata": {},
   "outputs": [],
   "source": [
    "measurements = [5, 2, 6, 4, 8, 6, 2, 5, 1, 3, 3, 6]"
   ]
  },
  {
   "cell_type": "markdown",
   "id": "495cce67-9f45-4b36-842d-404747ba43a1",
   "metadata": {},
   "source": [
    "## Medidas de tendencia central\n",
    "Podemos medir la _ubicaci\u00f3n_ de nuestras `measurement` en el espacio utilizando [funciones estad\u00edsticas de numpy](https://numpy.org/doc/stable/reference/routines.statistics.html) y el [m\u00f3dulo de estad\u00edsticas](https://docs.python.org/3/library/statistics.html) de Python."
   ]
  },
  {
   "cell_type": "code",
   "execution_count": 2,
   "id": "afe45a7b-d925-46b6-b2c3-8fdcbdafae5c",
   "metadata": {},
   "outputs": [],
   "source": [
    "import numpy as np\n",
    "import statistics as st"
   ]
  },
  {
   "cell_type": "code",
   "execution_count": 3,
   "id": "ae6d6f1d-da15-4fb3-9021-bfffa18b6e76",
   "metadata": {},
   "outputs": [
    {
     "data": {
      "text/plain": [
       "4.25"
      ]
     },
     "execution_count": 3,
     "metadata": {},
     "output_type": "execute_result"
    }
   ],
   "source": [
    "np.mean(measurements)"
   ]
  },
  {
   "cell_type": "code",
   "execution_count": 4,
   "id": "5c8785a5-8f3e-43f3-abb6-ab798d2d0e8e",
   "metadata": {},
   "outputs": [
    {
     "data": {
      "text/plain": [
       "4.5"
      ]
     },
     "execution_count": 4,
     "metadata": {},
     "output_type": "execute_result"
    }
   ],
   "source": [
    "np.median(measurements)"
   ]
  },
  {
   "cell_type": "code",
   "execution_count": 5,
   "id": "068fadac-1e6d-4449-b074-6b320ff85bbf",
   "metadata": {},
   "outputs": [
    {
     "data": {
      "text/plain": [
       "6"
      ]
     },
     "execution_count": 5,
     "metadata": {},
     "output_type": "execute_result"
    }
   ],
   "source": [
    "st.mode(measurements)"
   ]
  },
  {
   "cell_type": "markdown",
   "id": "b14d6e91-b0b8-4acf-8fa4-616aca040bb8",
   "metadata": {},
   "source": [
    "## Medidas de dispersi\u00f3n\n",
    "Numpy tambi\u00e9n permite medir la dispersi\u00f3n de `measurements`."
   ]
  },
  {
   "cell_type": "code",
   "execution_count": 6,
   "id": "21cc5cfa-6e48-481b-a9d1-a51e114976b5",
   "metadata": {},
   "outputs": [
    {
     "data": {
      "text/plain": [
       "2.0052015692526606"
      ]
     },
     "execution_count": 6,
     "metadata": {},
     "output_type": "execute_result"
    }
   ],
   "source": [
    "np.std(measurements)"
   ]
  },
  {
   "cell_type": "code",
   "execution_count": 7,
   "id": "90a53582-7f8b-4c46-9360-224ea142acc3",
   "metadata": {},
   "outputs": [
    {
     "data": {
      "text/plain": [
       "4.020833333333333"
      ]
     },
     "execution_count": 7,
     "metadata": {},
     "output_type": "execute_result"
    }
   ],
   "source": [
    "np.var(measurements)"
   ]
  },
  {
   "cell_type": "code",
   "execution_count": 8,
   "id": "959c06f8-05eb-481c-9fbd-32b965e7cd40",
   "metadata": {},
   "outputs": [
    {
     "data": {
      "text/plain": [
       "(1, 8)"
      ]
     },
     "execution_count": 8,
     "metadata": {},
     "output_type": "execute_result"
    }
   ],
   "source": [
    "np.min(measurements), np.max(measurements)"
   ]
  },
  {
   "cell_type": "code",
   "execution_count": 9,
   "id": "b2501f96-4f16-488f-9b9b-74d62309d471",
   "metadata": {},
   "outputs": [
    {
     "data": {
      "text/plain": [
       "array([2.75, 4.5 , 6.  ])"
      ]
     },
     "execution_count": 9,
     "metadata": {},
     "output_type": "execute_result"
    }
   ],
   "source": [
    "np.percentile(measurements, [25, 50, 75])"
   ]
  },
  {
   "cell_type": "markdown",
   "id": "c5465b23-6818-4456-b07b-42e479431a96",
   "metadata": {},
   "source": [
    "## Ejercicio\n",
    "Averigua si la mediana de un conjunto de datos de muestra es siempre un n\u00famero dentro de la muestra. Usa estos tres ejemplos para elaborar sobre esto:"
   ]
  },
  {
   "cell_type": "code",
   "execution_count": 10,
   "id": "acc54c8e-5b77-4f56-8bee-c6d0c5a13bbb",
   "metadata": {},
   "outputs": [],
   "source": [
    "example1 = [3, 4, 5]"
   ]
  },
  {
   "cell_type": "code",
   "execution_count": null,
   "id": "0789f045-0782-4587-ab26-7ea96a38b662",
   "metadata": {},
   "outputs": [],
   "source": []
  },
  {
   "cell_type": "code",
   "execution_count": 11,
   "id": "bd27b8de-db9b-48f9-b6c9-78dea2958319",
   "metadata": {},
   "outputs": [],
   "source": [
    "example2 = [3, 4, 4, 5]"
   ]
  },
  {
   "cell_type": "code",
   "execution_count": null,
   "id": "1a4cfe20-e174-43e6-8bdd-7bb0d70c2474",
   "metadata": {},
   "outputs": [],
   "source": []
  },
  {
   "cell_type": "code",
   "execution_count": 12,
   "id": "9b679e86-3ffb-49ce-ac36-a2bcb2607004",
   "metadata": {},
   "outputs": [],
   "source": [
    "example3 = [3, 4, 5, 6]"
   ]
  },
  {
   "cell_type": "code",
   "execution_count": null,
   "id": "56d926f8-81b9-4b22-9392-12c2fa568adb",
   "metadata": {},
   "outputs": [],
   "source": []
  }
 ],
 "metadata": {
  "kernelspec": {
   "display_name": "Python 3 (ipykernel)",
   "language": "python",
   "name": "python3"
  },
  "language_info": {
   "codemirror_mode": {
    "name": "ipython",
    "version": 3
   },
   "file_extension": ".py",
   "mimetype": "text/x-python",
   "name": "python",
   "nbconvert_exporter": "python",
   "pygments_lexer": "ipython3",
   "version": "3.9.7"
  }
 },
 "nbformat": 4,
 "nbformat_minor": 5
}