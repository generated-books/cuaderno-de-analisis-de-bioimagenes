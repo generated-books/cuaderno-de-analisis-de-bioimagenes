{
 "cells": [
  {
   "cell_type": "markdown",
   "id": "10cc5ddb-417d-43cd-ba12-e4c781850d67",
   "metadata": {},
   "source": [
    "# Importando funciones y paquetes\n",
    "\n",
    "Muy a menudo, necesitamos herramientas que no est\u00e1n proporcionadas directamente por la biblioteca est\u00e1ndar de Python. En ese caso, necesitamos importar las funciones necesarias de m\u00f3dulos o paquetes en nuestros notebooks o scripts. Algunos m\u00f3dulos vienen directamente con la distribuci\u00f3n de Python (como el m\u00f3dulo math visto en [Matem\u00e1ticas b\u00e1sicas en Python](Math_in_python.ipynb)), y otros como Numpy, scikit-image, etc. son paquetes externos instalados con pip o conda. En cuanto a la importaci\u00f3n, funcionan de la misma manera, y tenemos m\u00faltiples formas de importar funciones individuales o grupos de ellas."
   ]
  },
  {
   "cell_type": "markdown",
   "id": "ab468beb-e517-4468-86bb-bf6b8ba96a9f",
   "metadata": {},
   "source": [
    "## Importaci\u00f3n b\u00e1sica\n",
    "\n",
    "La declaraci\u00f3n de importaci\u00f3n b\u00e1sica utiliza las palabras clave ```import``` y el nombre del m\u00f3dulo. Por ejemplo, con el m\u00f3dulo b\u00e1sico de Python ```pathlib``` que maneja rutas y nombres de archivos:"
   ]
  },
  {
   "cell_type": "code",
   "execution_count": 13,
   "id": "d00dce4e-c426-484c-bd41-2905dc99f59c",
   "metadata": {},
   "outputs": [],
   "source": [
    "import pathlib"
   ]
  },
  {
   "cell_type": "markdown",
   "id": "130dff08-9326-4df4-999f-fb98d1172617",
   "metadata": {},
   "source": [
    "Si queremos importar un paquete externo, necesitamos asegurarnos de que est\u00e9 realmente instalado, de lo contrario obtendremos un mensaje de error:"
   ]
  },
  {
   "cell_type": "code",
   "execution_count": 14,
   "id": "3d20edb7-7cec-4ea0-a46a-51f7584bf635",
   "metadata": {},
   "outputs": [
    {
     "ename": "ModuleNotFoundError",
     "evalue": "No module named 'absent_package'",
     "output_type": "error",
     "traceback": [
      "\u001b[0;31m---------------------------------------------------------------------------\u001b[0m",
      "\u001b[0;31mModuleNotFoundError\u001b[0m                       Traceback (most recent call last)",
      "Input \u001b[0;32mIn [14]\u001b[0m, in \u001b[0;36m<cell line: 1>\u001b[0;34m()\u001b[0m\n\u001b[0;32m----> 1\u001b[0m \u001b[38;5;28;01mimport\u001b[39;00m \u001b[38;5;21;01mabsent_package\u001b[39;00m\n",
      "\u001b[0;31mModuleNotFoundError\u001b[0m: No module named 'absent_package'"
     ]
    }
   ],
   "source": [
    "import absent_package"
   ]
  },
  {
   "cell_type": "markdown",
   "id": "e8cfed05-6309-4c37-8ee1-a0ab74a70552",
   "metadata": {},
   "source": [
    "Si te falta un paquete, puedes instalarlo directamente desde el notebook usando pip o conda. Por ejemplo, si Numpy a\u00fan no est\u00e1 instalado, podr\u00edas ejecutar:"
   ]
  },
  {
   "cell_type": "code",
   "execution_count": 41,
   "id": "6cb89fc2-a2c1-44ca-915c-bfd9f185a368",
   "metadata": {},
   "outputs": [
    {
     "name": "stdout",
     "output_type": "stream",
     "text": [
      "Collecting package metadata (current_repodata.json): done\n",
      "Solving environment: done\n",
      "\n",
      "# All requested packages already installed.\n",
      "\n",
      "\n",
      "Note: you may need to restart the kernel to use updated packages.\n"
     ]
    }
   ],
   "source": [
    "conda install -c conda-forge numpy"
   ]
  },
  {
   "cell_type": "markdown",
   "id": "adbad354-b227-41d1-bc97-7b4a386dc8cc",
   "metadata": {},
   "source": [
    "## Formulaci\u00f3n alternativa de importaci\u00f3n\n",
    "\n",
    "Usando la formulaci\u00f3n simple anterior, obtenemos acceso a funciones directamente adjuntas al paquete principal. Vamos a importar el paquete Numpy que usaremos m\u00e1s adelante para manejar im\u00e1genes. Podemos importarlo:"
   ]
  },
  {
   "cell_type": "code",
   "execution_count": 15,
   "id": "c5374a88-b2cf-4963-b076-616bfaeb6aff",
   "metadata": {},
   "outputs": [],
   "source": [
    "import numpy"
   ]
  },
  {
   "cell_type": "markdown",
   "id": "caf83b1e-76e7-4a2b-aabb-2180dae9148f",
   "metadata": {},
   "source": [
    "y ahora obtenemos acceso, por ejemplo, a la funci\u00f3n coseno de Numpy simplemente usando la notaci\u00f3n de punto:"
   ]
  },
  {
   "cell_type": "code",
   "execution_count": 16,
   "id": "952e16a1-9684-4867-9273-247ad6707eeb",
   "metadata": {},
   "outputs": [
    {
     "data": {
      "text/plain": [
       "-0.9999987317275395"
      ]
     },
     "execution_count": 16,
     "metadata": {},
     "output_type": "execute_result"
    }
   ],
   "source": [
    "numpy.cos(3.14)"
   ]
  },
  {
   "cell_type": "markdown",
   "id": "f73a553c-1cec-4ad8-a8f9-6601d03e788f",
   "metadata": {},
   "source": [
    "Para encontrar todas las funciones disponibles en un paquete o m\u00f3dulo, normalmente tienes que ir a su documentaci\u00f3n y buscar la *Interfaz de Programaci\u00f3n de Aplicaciones* o *API*. Por ejemplo, aqu\u00ed encontramos una descripci\u00f3n de todas las funciones matem\u00e1ticas (incluido el coseno) de Numpy: https://numpy.org/doc/stable/reference/routines.math.html"
   ]
  },
  {
   "cell_type": "markdown",
   "id": "42490a15-3988-4359-a1c6-9a9c588a3c0e",
   "metadata": {},
   "source": [
    "### Acortamiento de nombres\n",
    "\n",
    "Si usamos un paquete regularmente, es posible que no queramos escribir el nombre completo del paquete cada vez que necesitemos una funci\u00f3n de \u00e9l. Para evitar eso, podemos abreviarlo en el momento de la importaci\u00f3n usando la declaraci\u00f3n ```as```:"
   ]
  },
  {
   "cell_type": "code",
   "execution_count": 17,
   "id": "f3ab4b68-d1a6-4708-aafb-a95c9efee4a8",
   "metadata": {},
   "outputs": [],
   "source": [
    "import numpy as np"
   ]
  },
  {
   "cell_type": "code",
   "execution_count": 18,
   "id": "b19bb26d-d119-4120-8152-0336c949c069",
   "metadata": {},
   "outputs": [
    {
     "data": {
      "text/plain": [
       "-0.9999987317275395"
      ]
     },
     "execution_count": 18,
     "metadata": {},
     "output_type": "execute_result"
    }
   ],
   "source": [
    "np.cos(3.14)"
   ]
  },
  {
   "cell_type": "markdown",
   "id": "60f63fce-d4dc-42ff-b4e7-4b168d709bab",
   "metadata": {},
   "source": [
    "### Funciones espec\u00edficas\n",
    "\n",
    "Si solo necesitamos una funci\u00f3n espec\u00edfica de un paquete, tambi\u00e9n podemos importarla usando la declaraci\u00f3n ```from```. Por ejemplo, si solo queremos importar la funci\u00f3n ```np.cos``` de arriba:"
   ]
  },
  {
   "cell_type": "code",
   "execution_count": 19,
   "id": "918ca0db-90e9-47b3-9c53-4652049843f1",
   "metadata": {},
   "outputs": [],
   "source": [
    "from numpy import cos"
   ]
  },
  {
   "cell_type": "code",
   "execution_count": 20,
   "id": "8374d32d-7a48-43cb-ad55-b564f87cc2b4",
   "metadata": {},
   "outputs": [
    {
     "data": {
      "text/plain": [
       "-0.9999987317275395"
      ]
     },
     "execution_count": 20,
     "metadata": {},
     "output_type": "execute_result"
    }
   ],
   "source": [
    "cos(3.14)"
   ]
  },
  {
   "cell_type": "markdown",
   "id": "23644840-840f-4ecd-b09a-4fee262678ce",
   "metadata": {},
   "source": [
    "Por supuesto, en este caso, a menos que encontremos la l\u00ednea espec\u00edfica donde se importa la funci\u00f3n, no sabemos que ```cos``` necesariamente pertenece a Numpy, ya que tambi\u00e9n podr\u00edamos haber definido tal funci\u00f3n en el notebook."
   ]
  },
  {
   "cell_type": "markdown",
   "id": "ba26add4-d1dd-4123-90da-38d0b8d61409",
   "metadata": {},
   "source": [
    "## Sub-m\u00f3dulos\n",
    "\n",
    "En paquetes m\u00e1s grandes como Numpy, algunas funciones son directamente accesibles desde el paquete principal (como ```np.cos```) y otras con tareas m\u00e1s especializadas se agrupan por tema o dominio en subm\u00f3dulos. Por ejemplo, Numpy tiene un subm\u00f3dulo dedicado a distribuciones llamado ```random```. Todos los puntos vistos anteriormente siguen siendo v\u00e1lidos aqu\u00ed.\n",
    "\n",
    "Usamos la notaci\u00f3n de punto para acceder a las funciones, pero ahora necesitamos especificar tambi\u00e9n el nombre del subm\u00f3dulo. Por ejemplo, la funci\u00f3n ```normal``` que genera n\u00fameros extra\u00eddos de una distribuci\u00f3n normal:"
   ]
  },
  {
   "cell_type": "code",
   "execution_count": 31,
   "id": "108d12fd-041a-4f48-9f92-58479d5eb9cd",
   "metadata": {},
   "outputs": [
    {
     "data": {
      "text/plain": [
       "1.8077301364791438"
      ]
     },
     "execution_count": 31,
     "metadata": {},
     "output_type": "execute_result"
    }
   ],
   "source": [
    "np.random.normal()"
   ]
  },
  {
   "cell_type": "markdown",
   "id": "ff382ef6-de48-49b7-968b-7120fb505367",
   "metadata": {},
   "source": [
    "Podemos acortar la llamada a la funci\u00f3n importando solo el subm\u00f3dulo:"
   ]
  },
  {
   "cell_type": "code",
   "execution_count": 32,
   "id": "e60dc664-f66a-475c-86d5-44cdc8448826",
   "metadata": {},
   "outputs": [],
   "source": [
    "from numpy import random"
   ]
  },
  {
   "cell_type": "code",
   "execution_count": 33,
   "id": "8c8470b2-882f-4cda-8c1f-795c22db05ab",
   "metadata": {},
   "outputs": [
    {
     "data": {
      "text/plain": [
       "0.0909924357071552"
      ]
     },
     "execution_count": 33,
     "metadata": {},
     "output_type": "execute_result"
    }
   ],
   "source": [
    "random.normal()"
   ]
  },
  {
   "cell_type": "markdown",
   "id": "f7e64bd9-1127-43cb-96db-60a12a56ea48",
   "metadata": {},
   "source": [
    "y podemos acortar a\u00fan m\u00e1s importando solo la funci\u00f3n:"
   ]
  },
  {
   "cell_type": "code",
   "execution_count": 34,
   "id": "eb009d0d-5b8f-49ab-8a5e-d16c972837b8",
   "metadata": {},
   "outputs": [],
   "source": [
    "from numpy.random import normal"
   ]
  },
  {
   "cell_type": "code",
   "execution_count": 35,
   "id": "5533cd1d-1f0e-47d7-acb5-ad0ea6772019",
   "metadata": {},
   "outputs": [
    {
     "data": {
      "text/plain": [
       "0.0038794083334154307"
      ]
     },
     "execution_count": 35,
     "metadata": {},
     "output_type": "execute_result"
    }
   ],
   "source": [
    "normal()"
   ]
  },
  {
   "cell_type": "markdown",
   "id": "cc770a20-0014-4b6c-b12e-3fa6b1d72f22",
   "metadata": {},
   "source": [
    "## Ejercicio\n",
    "\n",
    "El paquete Numpy tiene un subm\u00f3dulo de \u00e1lgebra lineal llamado ```linalg```. El siguiente c\u00f3digo calcula la norma de un vector: ```np.linalg.norm([1,2])```. Intenta:\n",
    "- importar solo el subm\u00f3dulo y llamar a la misma funci\u00f3n\n",
    "- importar solo la funci\u00f3n ```norm``` y llamarla\n",
    " "
   ]
  },
  {
   "cell_type": "code",
   "execution_count": null,
   "id": "72dc7b73-b072-411d-92f3-a7c9cce4395f",
   "metadata": {},
   "outputs": [],
   "source": []
  }
 ],
 "metadata": {
  "kernelspec": {
   "display_name": "Python 3 (ipykernel)",
   "language": "python",
   "name": "python3"
  },
  "language_info": {
   "codemirror_mode": {
    "name": "ipython",
    "version": 3
   },
   "file_extension": ".py",
   "mimetype": "text/x-python",
   "name": "python",
   "nbconvert_exporter": "python",
   "pygments_lexer": "ipython3",
   "version": "3.9.19"
  }
 },
 "nbformat": 4,
 "nbformat_minor": 5
}