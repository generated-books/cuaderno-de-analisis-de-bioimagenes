{
 "cells": [
  {
   "cell_type": "markdown",
   "id": "2bac9780-3f38-4f74-9a22-577e2a4c6643",
   "metadata": {},
   "source": [
    "# Ordenando listas\n",
    "Cuando trabajamos con formas simples de datos, por ejemplo, una lista de mediciones, puede ser \u00fatil ordenarlas. Con esto, podr\u00edamos, por ejemplo, acceder r\u00e1pidamente a los n\u00fameros m\u00e1s peque\u00f1os de una lista.\n",
    "\n",
    "Comencemos nuevamente con una lista de n\u00fameros"
   ]
  },
  {
   "cell_type": "code",
   "execution_count": 1,
   "id": "24617c60-0f20-4d12-ae69-b99630fbd919",
   "metadata": {},
   "outputs": [
    {
     "data": {
      "text/plain": [
       "[34, 0, 65, 23, 51, 9, 50, 78, 34, 100]"
      ]
     },
     "execution_count": 1,
     "metadata": {},
     "output_type": "execute_result"
    }
   ],
   "source": [
    "data = [34, 0, 65, 23, 51, 9, 50, 78, 34, 100]\n",
    "data"
   ]
  },
  {
   "cell_type": "markdown",
   "id": "21077e88-518e-4f68-94b8-2d77e87b4058",
   "metadata": {},
   "source": [
    "Existe la operaci\u00f3n [sort](https://docs.python.org/3/library/stdtypes.html?highlight=sort#list.sort), que realmente modifica una lista:"
   ]
  },
  {
   "cell_type": "code",
   "execution_count": 2,
   "id": "b6ea27f0-1a39-4750-be11-f32302f9221a",
   "metadata": {},
   "outputs": [
    {
     "data": {
      "text/plain": [
       "[0, 9, 23, 34, 34, 50, 51, 65, 78, 100]"
      ]
     },
     "execution_count": 2,
     "metadata": {},
     "output_type": "execute_result"
    }
   ],
   "source": [
    "data.sort()\n",
    "data"
   ]
  },
  {
   "cell_type": "markdown",
   "id": "047fd778-15dc-4d31-8029-f403ad4f555a",
   "metadata": {},
   "source": [
    "Por lo tanto, debemos ejecutar las celdas del cuaderno Jupyter en orden porque la variable `data` se modifica posteriormente (de todos modos, deber\u00edamos hacer esto).\n",
    "\n",
    "Despu\u00e9s de ordenar, esto nos dar\u00e1 las tres entradas m\u00e1s peque\u00f1as de la lista:"
   ]
  },
  {
   "cell_type": "code",
   "execution_count": 3,
   "id": "37a90146-5349-483f-a59f-65a085e11210",
   "metadata": {},
   "outputs": [
    {
     "data": {
      "text/plain": [
       "[0, 9, 23]"
      ]
     },
     "execution_count": 3,
     "metadata": {},
     "output_type": "execute_result"
    }
   ],
   "source": [
    "data[:3]"
   ]
  },
  {
   "cell_type": "markdown",
   "id": "ed4fa049-f856-4dce-9611-bfd15aea4b0f",
   "metadata": {},
   "source": [
    "Y esto nos dar\u00e1 los tres n\u00fameros m\u00e1s grandes:"
   ]
  },
  {
   "cell_type": "code",
   "execution_count": 4,
   "id": "a7cf8c3e-6728-4b2a-aa55-09fb813ca566",
   "metadata": {},
   "outputs": [
    {
     "data": {
      "text/plain": [
       "[65, 78, 100]"
      ]
     },
     "execution_count": 4,
     "metadata": {},
     "output_type": "execute_result"
    }
   ],
   "source": [
    "data[-3:]"
   ]
  },
  {
   "cell_type": "markdown",
   "id": "59652f9a-e7f8-430a-af79-80d91a902bef",
   "metadata": {},
   "source": [
    "## Ejercicio\n",
    "Encuentra la [mediana](https://es.wikipedia.org/wiki/Mediana_(estad%C3%ADstica)) de estas dos listas de n\u00fameros:"
   ]
  },
  {
   "cell_type": "code",
   "execution_count": 5,
   "id": "50f4cac1-b627-45af-a966-908e09812cfe",
   "metadata": {},
   "outputs": [],
   "source": [
    "data1 = [6, 4, 3, 4, 8, 10]"
   ]
  },
  {
   "cell_type": "code",
   "execution_count": 6,
   "id": "6b3c6eec-c6af-451a-bf3f-098463166531",
   "metadata": {},
   "outputs": [],
   "source": [
    "data2 = [6, 4, 3, 4, 8, 10, 8]"
   ]
  },
  {
   "cell_type": "code",
   "execution_count": null,
   "id": "3cec52eb-8d46-4431-8f28-387e98e8091c",
   "metadata": {},
   "outputs": [],
   "source": []
  }
 ],
 "metadata": {
  "kernelspec": {
   "display_name": "Python 3 (ipykernel)",
   "language": "python",
   "name": "python3"
  },
  "language_info": {
   "codemirror_mode": {
    "name": "ipython",
    "version": 3
   },
   "file_extension": ".py",
   "mimetype": "text/x-python",
   "name": "python",
   "nbconvert_exporter": "python",
   "pygments_lexer": "ipython3",
   "version": "3.9.0"
  }
 },
 "nbformat": 4,
 "nbformat_minor": 5
}