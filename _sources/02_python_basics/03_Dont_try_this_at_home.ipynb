{
 "cells": [
  {
   "cell_type": "markdown",
   "id": "frank-basement",
   "metadata": {},
   "source": [
    "# Errores comunes al trabajar con cuadernos Jupyter\n",
    "Puedes ejecutar la misma celda en cuadernos Jupyter m\u00faltiples veces. Esto puede llevar a cuadernos que no tienen sentido para el lector."
   ]
  },
  {
   "cell_type": "code",
   "execution_count": 3,
   "id": "metallic-classification",
   "metadata": {},
   "outputs": [],
   "source": [
    "a = 5\n",
    "b = 5"
   ]
  },
  {
   "cell_type": "code",
   "execution_count": 6,
   "id": "wired-crowd",
   "metadata": {},
   "outputs": [],
   "source": [
    "a = a + 1"
   ]
  },
  {
   "cell_type": "code",
   "execution_count": 7,
   "id": "shaped-capital",
   "metadata": {},
   "outputs": [
    {
     "data": {
      "text/plain": [
       "13"
      ]
     },
     "execution_count": 7,
     "metadata": {},
     "output_type": "execute_result"
    }
   ],
   "source": [
    "a + b"
   ]
  },
  {
   "cell_type": "markdown",
   "id": "olympic-vienna",
   "metadata": {},
   "source": [
    "Puedes ejecutarlas en el orden incorrecto, lo que lleva al mismo efecto."
   ]
  },
  {
   "cell_type": "code",
   "execution_count": 10,
   "id": "backed-shaft",
   "metadata": {},
   "outputs": [],
   "source": [
    "d = 5"
   ]
  },
  {
   "cell_type": "code",
   "execution_count": 9,
   "id": "military-bedroom",
   "metadata": {},
   "outputs": [],
   "source": [
    "d = 10"
   ]
  },
  {
   "cell_type": "code",
   "execution_count": 11,
   "id": "radical-shakespeare",
   "metadata": {},
   "outputs": [
    {
     "data": {
      "text/plain": [
       "5"
      ]
     },
     "execution_count": 11,
     "metadata": {},
     "output_type": "execute_result"
    }
   ],
   "source": [
    "d"
   ]
  },
  {
   "cell_type": "markdown",
   "id": "persistent-porcelain",
   "metadata": {},
   "source": [
    "Puedes ver que las celdas fueron ejecutadas en orden incorrecto, repetidamente o no de forma consecutiva, leyendo el n\u00famero `In [?]` a la izquierda.\n",
    "\n",
    "![](cell_execution_number.png)\n",
    "\n",
    "Consejo: Cuando tu cuaderno est\u00e9 listo, haz clic en el men\u00fa `Kernel > Restart & Run all` para asegurarte de que todas las celdas en el cuaderno se ejecuten en el orden correcto."
   ]
  },
  {
   "cell_type": "code",
   "execution_count": null,
   "id": "conservative-cyprus",
   "metadata": {},
   "outputs": [],
   "source": []
  }
 ],
 "metadata": {
  "kernelspec": {
   "display_name": "Python 3 (ipykernel)",
   "language": "python",
   "name": "python3"
  },
  "language_info": {
   "codemirror_mode": {
    "name": "ipython",
    "version": 3
   },
   "file_extension": ".py",
   "mimetype": "text/x-python",
   "name": "python",
   "nbconvert_exporter": "python",
   "pygments_lexer": "ipython3",
   "version": "3.9.0"
  }
 },
 "nbformat": 4,
 "nbformat_minor": 5
}