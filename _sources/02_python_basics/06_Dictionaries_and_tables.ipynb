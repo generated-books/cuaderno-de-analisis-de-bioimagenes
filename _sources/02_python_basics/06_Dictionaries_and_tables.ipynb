{
 "cells": [
  {
   "cell_type": "markdown",
   "id": "strange-soundtrack",
   "metadata": {},
   "source": [
    "# Diccionarios\n",
    "Los diccionarios son estructuras de datos que contienen pares clave-valor, escritos como `clave:valor`. \n",
    "\n",
    "Ver tambi\u00e9n\n",
    "* [Diccionarios en python](https://www.w3schools.com/python/python_dictionaries.asp)\n",
    "* [Claves de diccionario como lista](https://stackoverflow.com/questions/16819222/how-to-return-dictionary-keys-as-a-list-in-python)\n",
    "\n",
    "Puedes definir un diccionario as\u00ed:"
   ]
  },
  {
   "cell_type": "code",
   "execution_count": 1,
   "id": "transparent-external",
   "metadata": {},
   "outputs": [],
   "source": [
    "german_english_dictionary = {'Vorlesung':'Lecture', 'Gleichung':'Equation'}"
   ]
  },
  {
   "cell_type": "markdown",
   "id": "premier-address",
   "metadata": {},
   "source": [
    "Para la comodidad del lector, considera escribirlos as\u00ed:"
   ]
  },
  {
   "cell_type": "code",
   "execution_count": 2,
   "id": "constitutional-civilian",
   "metadata": {},
   "outputs": [],
   "source": [
    "german_english_dictionary = {\n",
    "    'Vorlesung':'Lecture', \n",
    "    'Gleichung':'Equation'\n",
    "}"
   ]
  },
  {
   "cell_type": "code",
   "execution_count": 3,
   "id": "fitted-mirror",
   "metadata": {},
   "outputs": [
    {
     "data": {
      "text/plain": [
       "{'Vorlesung': 'Lecture', 'Gleichung': 'Equation'}"
      ]
     },
     "execution_count": 3,
     "metadata": {},
     "output_type": "execute_result"
    }
   ],
   "source": [
    "german_english_dictionary"
   ]
  },
  {
   "cell_type": "markdown",
   "id": "accepted-inspection",
   "metadata": {},
   "source": [
    "Si quieres acceder a una entrada espec\u00edfica en el diccionario, puedes hacerlo usando corchetes y la clave:"
   ]
  },
  {
   "cell_type": "code",
   "execution_count": 4,
   "id": "varying-machine",
   "metadata": {},
   "outputs": [
    {
     "data": {
      "text/plain": [
       "'Lecture'"
      ]
     },
     "execution_count": 4,
     "metadata": {},
     "output_type": "execute_result"
    }
   ],
   "source": [
    "german_english_dictionary['Vorlesung']"
   ]
  },
  {
   "cell_type": "markdown",
   "id": "secure-seventh",
   "metadata": {},
   "source": [
    "Puedes agregar elementos al diccionario:"
   ]
  },
  {
   "cell_type": "code",
   "execution_count": 5,
   "id": "aboriginal-shareware",
   "metadata": {},
   "outputs": [],
   "source": [
    "german_english_dictionary['Tag'] = 'Day'"
   ]
  },
  {
   "cell_type": "code",
   "execution_count": 6,
   "id": "motivated-immune",
   "metadata": {},
   "outputs": [
    {
     "data": {
      "text/plain": [
       "{'Vorlesung': 'Lecture', 'Gleichung': 'Equation', 'Tag': 'Day'}"
      ]
     },
     "execution_count": 6,
     "metadata": {},
     "output_type": "execute_result"
    }
   ],
   "source": [
    "german_english_dictionary"
   ]
  },
  {
   "cell_type": "markdown",
   "id": "lovely-investment",
   "metadata": {},
   "source": [
    "Tambi\u00e9n puedes obtener una lista de todas las claves en el diccionario:"
   ]
  },
  {
   "cell_type": "code",
   "execution_count": 7,
   "id": "certain-devon",
   "metadata": {},
   "outputs": [],
   "source": [
    "keys = list(german_english_dictionary.keys())"
   ]
  },
  {
   "cell_type": "code",
   "execution_count": 8,
   "id": "middle-homeless",
   "metadata": {},
   "outputs": [
    {
     "data": {
      "text/plain": [
       "['Vorlesung', 'Gleichung', 'Tag']"
      ]
     },
     "execution_count": 8,
     "metadata": {},
     "output_type": "execute_result"
    }
   ],
   "source": [
    "keys"
   ]
  },
  {
   "cell_type": "code",
   "execution_count": 9,
   "id": "novel-overall",
   "metadata": {},
   "outputs": [
    {
     "data": {
      "text/plain": [
       "'Gleichung'"
      ]
     },
     "execution_count": 9,
     "metadata": {},
     "output_type": "execute_result"
    }
   ],
   "source": [
    "keys[1]"
   ]
  },
  {
   "cell_type": "markdown",
   "id": "modified-mambo",
   "metadata": {},
   "source": [
    "# Tablas\n",
    "Las tablas *pueden* ser expresadas como diccionarios con arrays como elementos."
   ]
  },
  {
   "cell_type": "code",
   "execution_count": 10,
   "id": "acceptable-cornell",
   "metadata": {},
   "outputs": [],
   "source": [
    "measurements_week = {\n",
    "    'Monday':   [2.3, 3.1, 5.6],\n",
    "    'Tuesday':  [1.8, 7.0, 4.3],\n",
    "    'Wednesday':[4.5, 1.5, 3.2],\n",
    "    'Thursday': [1.9, 2.0, 6.4],\n",
    "    'Friday':   [4.4, 2.3, 5.4]\n",
    "}"
   ]
  },
  {
   "cell_type": "code",
   "execution_count": 11,
   "id": "expired-ambassador",
   "metadata": {},
   "outputs": [
    {
     "data": {
      "text/plain": [
       "{'Monday': [2.3, 3.1, 5.6],\n",
       " 'Tuesday': [1.8, 7.0, 4.3],\n",
       " 'Wednesday': [4.5, 1.5, 3.2],\n",
       " 'Thursday': [1.9, 2.0, 6.4],\n",
       " 'Friday': [4.4, 2.3, 5.4]}"
      ]
     },
     "execution_count": 11,
     "metadata": {},
     "output_type": "execute_result"
    }
   ],
   "source": [
    "measurements_week"
   ]
  },
  {
   "cell_type": "code",
   "execution_count": 12,
   "id": "permanent-judges",
   "metadata": {},
   "outputs": [
    {
     "data": {
      "text/plain": [
       "[2.3, 3.1, 5.6]"
      ]
     },
     "execution_count": 12,
     "metadata": {},
     "output_type": "execute_result"
    }
   ],
   "source": [
    "measurements_week['Monday']"
   ]
  },
  {
   "cell_type": "markdown",
   "id": "positive-motel",
   "metadata": {},
   "source": [
    "Tambi\u00e9n puedes almacenar variables en tales _tablas_:"
   ]
  },
  {
   "cell_type": "code",
   "execution_count": 13,
   "id": "announced-smart",
   "metadata": {},
   "outputs": [],
   "source": [
    "w1 = 5\n",
    "h1 = 3\n",
    "area1 = w1 * h1\n",
    "\n",
    "w2 = 2\n",
    "h2 = 4\n",
    "area2 = w2 * h2\n",
    "\n",
    "rectangles = {\n",
    "    \"width\": [w1, w2],\n",
    "    \"height\": [h1, h2],\n",
    "    \"area\": [area1, area2]\n",
    "}"
   ]
  },
  {
   "cell_type": "code",
   "execution_count": 14,
   "id": "happy-advisory",
   "metadata": {},
   "outputs": [
    {
     "data": {
      "text/plain": [
       "{'width': [5, 2], 'height': [3, 4], 'area': [15, 8]}"
      ]
     },
     "execution_count": 14,
     "metadata": {},
     "output_type": "execute_result"
    }
   ],
   "source": [
    "rectangles"
   ]
  },
  {
   "cell_type": "markdown",
   "id": "alike-leisure",
   "metadata": {},
   "source": [
    "# Ejercicio\n",
    "Acabas de medir el radio de tres c\u00edrculos. Escr\u00edbelos en una tabla y a\u00f1ade una columna con las medidas correspondientes del \u00e1rea de los c\u00edrculos."
   ]
  },
  {
   "cell_type": "code",
   "execution_count": 15,
   "id": "distinguished-simulation",
   "metadata": {},
   "outputs": [],
   "source": [
    "r1 = 12\n",
    "r2 = 8\n",
    "r3 = 15"
   ]
  },
  {
   "cell_type": "code",
   "execution_count": null,
   "id": "compound-crawford",
   "metadata": {},
   "outputs": [],
   "source": []
  }
 ],
 "metadata": {
  "kernelspec": {
   "display_name": "Python 3 (ipykernel)",
   "language": "python",
   "name": "python3"
  },
  "language_info": {
   "codemirror_mode": {
    "name": "ipython",
    "version": 3
   },
   "file_extension": ".py",
   "mimetype": "text/x-python",
   "name": "python",
   "nbconvert_exporter": "python",
   "pygments_lexer": "ipython3",
   "version": "3.9.0"
  }
 },
 "nbformat": 4,
 "nbformat_minor": 5
}