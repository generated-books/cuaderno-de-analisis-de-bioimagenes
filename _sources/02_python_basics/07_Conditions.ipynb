{
 "cells": [
  {
   "cell_type": "markdown",
   "id": "casual-purpose",
   "metadata": {},
   "source": [
    "# Condiciones\n",
    "La declaraci\u00f3n `if` se puede usar para ejecutar c\u00f3digo condicionalmente. Eso significa solo si una expresi\u00f3n es verdadera.\n",
    "\n",
    "Ver tambi\u00e9n:\n",
    "* [if\u2026elif\u2026else en Python](https://www.datacamp.com/community/tutorials/elif-statements-python)\n",
    "\n",
    "Echemos un vistazo a algunas expresiones primero"
   ]
  },
  {
   "cell_type": "code",
   "execution_count": 1,
   "id": "sensitive-graham",
   "metadata": {},
   "outputs": [
    {
     "data": {
      "text/plain": [
       "False"
      ]
     },
     "execution_count": 1,
     "metadata": {},
     "output_type": "execute_result"
    }
   ],
   "source": [
    "3 > 4"
   ]
  },
  {
   "cell_type": "code",
   "execution_count": 2,
   "id": "spare-official",
   "metadata": {},
   "outputs": [
    {
     "data": {
      "text/plain": [
       "False"
      ]
     },
     "execution_count": 2,
     "metadata": {},
     "output_type": "execute_result"
    }
   ],
   "source": [
    "a = 3\n",
    "b = 4\n",
    "\n",
    "a > b"
   ]
  },
  {
   "cell_type": "code",
   "execution_count": 3,
   "id": "olive-supervisor",
   "metadata": {},
   "outputs": [
    {
     "data": {
      "text/plain": [
       "True"
      ]
     },
     "execution_count": 3,
     "metadata": {},
     "output_type": "execute_result"
    }
   ],
   "source": [
    "a < b"
   ]
  },
  {
   "cell_type": "code",
   "execution_count": 4,
   "id": "gorgeous-summit",
   "metadata": {},
   "outputs": [
    {
     "data": {
      "text/plain": [
       "True"
      ]
     },
     "execution_count": 4,
     "metadata": {},
     "output_type": "execute_result"
    }
   ],
   "source": [
    "# no igual\n",
    "a != b"
   ]
  },
  {
   "cell_type": "code",
   "execution_count": 5,
   "id": "assisted-governor",
   "metadata": {},
   "outputs": [
    {
     "data": {
      "text/plain": [
       "False"
      ]
     },
     "execution_count": 5,
     "metadata": {},
     "output_type": "execute_result"
    }
   ],
   "source": [
    "# igual\n",
    "a == b"
   ]
  },
  {
   "cell_type": "code",
   "execution_count": 6,
   "id": "looking-activation",
   "metadata": {},
   "outputs": [],
   "source": [
    "# Nota: No lo confundas con esto:\n",
    "a = b"
   ]
  },
  {
   "cell_type": "markdown",
   "id": "complimentary-blade",
   "metadata": {},
   "source": [
    "## La declaraci\u00f3n `if`\n",
    "Despu\u00e9s de usar `if` en combinaci\u00f3n con una expresi\u00f3n, necesitas poner dos puntos `:` y el c\u00f3digo siguiente debe estar indentado:"
   ]
  },
  {
   "cell_type": "code",
   "execution_count": 7,
   "id": "cathedral-circumstances",
   "metadata": {},
   "outputs": [
    {
     "name": "stdout",
     "output_type": "stream",
     "text": [
      "Math is great.\n"
     ]
    }
   ],
   "source": [
    "if 3 < 4:\n",
    "    print(\"Las matem\u00e1ticas son geniales.\")"
   ]
  },
  {
   "cell_type": "code",
   "execution_count": 8,
   "id": "provincial-pulse",
   "metadata": {},
   "outputs": [],
   "source": [
    "if 3 > 4:\n",
    "    print(\"Las matem\u00e1ticas son extra\u00f1as.\")"
   ]
  },
  {
   "cell_type": "markdown",
   "id": "affecting-robert",
   "metadata": {},
   "source": [
    "Tambi\u00e9n puedes escribir comparaciones m\u00e1s sofisticadas:"
   ]
  },
  {
   "cell_type": "code",
   "execution_count": 9,
   "id": "noble-safety",
   "metadata": {},
   "outputs": [
    {
     "name": "stdout",
     "output_type": "stream",
     "text": [
      "C is between 4 and 20.\n"
     ]
    }
   ],
   "source": [
    "c = 10\n",
    "\n",
    "if 4 < c < 20:\n",
    "    print(\"C est\u00e1 entre 4 y 20.\")"
   ]
  },
  {
   "cell_type": "markdown",
   "id": "minute-exclusion",
   "metadata": {},
   "source": [
    "O combinar expresiones usando `and` y `or`:"
   ]
  },
  {
   "cell_type": "code",
   "execution_count": 10,
   "id": "stuffed-intermediate",
   "metadata": {},
   "outputs": [],
   "source": [
    "if c > 4 and c < 10:\n",
    "    print(\"C est\u00e1 entre 4 y 20.\")"
   ]
  },
  {
   "cell_type": "markdown",
   "id": "democratic-cutting",
   "metadata": {},
   "source": [
    "Si quieres comprobar si un elemento est\u00e1 en un array, hazlo as\u00ed:"
   ]
  },
  {
   "cell_type": "code",
   "execution_count": 11,
   "id": "disciplinary-spelling",
   "metadata": {},
   "outputs": [
    {
     "name": "stdout",
     "output_type": "stream",
     "text": [
      "Our list of animals contains a cat\n"
     ]
    }
   ],
   "source": [
    "animals = ['cat', 'dog', 'mouse']\n",
    "\n",
    "if 'cat' in animals:\n",
    "    print('Nuestra lista de animales contiene un gato')"
   ]
  },
  {
   "cell_type": "markdown",
   "id": "vietnamese-instrument",
   "metadata": {},
   "source": [
    "Tambi\u00e9n puedes analizar cadenas. Por ejemplo, comprobar si comienzan o terminan con ciertos caracteres:"
   ]
  },
  {
   "cell_type": "code",
   "execution_count": 12,
   "id": "demanding-scott",
   "metadata": {},
   "outputs": [
    {
     "name": "stdout",
     "output_type": "stream",
     "text": [
      "The file is an image!\n"
     ]
    }
   ],
   "source": [
    "filename = \"cells.tif\"\n",
    "\n",
    "if filename.endswith(\"tif\"):\n",
    "    print(\"\u00a1El archivo es una imagen!\")"
   ]
  },
  {
   "cell_type": "markdown",
   "id": "naked-penny",
   "metadata": {},
   "source": [
    "## La declaraci\u00f3n `if-else`\n",
    "Si tienes dos piezas diferentes de c\u00f3digo que deber\u00edan ejecutarse alternativamente, usa `if-else`:"
   ]
  },
  {
   "cell_type": "code",
   "execution_count": 13,
   "id": "sophisticated-forum",
   "metadata": {},
   "outputs": [
    {
     "name": "stdout",
     "output_type": "stream",
     "text": [
      "We need to improve our quality.\n"
     ]
    }
   ],
   "source": [
    "quality_in_percent = 89\n",
    "\n",
    "if quality_in_percent > 90:    \n",
    "    print(\"Nuestra calidad es lo suficientemente alta.\")\n",
    "else:\n",
    "    print(\"Necesitamos mejorar nuestra calidad.\")"
   ]
  },
  {
   "cell_type": "markdown",
   "id": "shared-ground",
   "metadata": {},
   "source": [
    "## La declaraci\u00f3n `elif`\n",
    "Para ejecutar c\u00f3digo dependiendo de m\u00faltiples condiciones, usa la declaraci\u00f3n `elif`:"
   ]
  },
  {
   "cell_type": "code",
   "execution_count": 14,
   "id": "compound-alliance",
   "metadata": {},
   "outputs": [
    {
     "name": "stdout",
     "output_type": "stream",
     "text": [
      "You scored 23 out of 30\n",
      "Your grade is 3\n"
     ]
    }
   ],
   "source": [
    "# determinando la calificaci\u00f3n del examen dependiendo de\n",
    "number_of_correct_points = 23\n",
    "number_of_total_points = 30\n",
    "\n",
    "# calcular porcentaje\n",
    "percentage = number_of_correct_points / number_of_total_points * 100\n",
    "\n",
    "if percentage > 95:\n",
    "    grade = 1\n",
    "elif percentage > 80:\n",
    "    grade = 2\n",
    "elif percentage > 60:\n",
    "    grade = 3\n",
    "elif percentag > 50:\n",
    "    grade = 4\n",
    "else:\n",
    "    grade = 5\n",
    "    \n",
    "print(\"Has obtenido\", number_of_correct_points, \"de\", number_of_total_points)\n",
    "print(\"Tu calificaci\u00f3n es\", grade)"
   ]
  },
  {
   "cell_type": "markdown",
   "id": "italic-motor",
   "metadata": {},
   "source": [
    "## Ejercicio\n",
    "Escribe c\u00f3digo Python que imprima el momento del d\u00eda, por ejemplo \"ma\u00f1ana\", \"mediod\u00eda\", \"tarde\", \"noche\" y \"madrugada\" dependiendo de una hora dada."
   ]
  },
  {
   "cell_type": "code",
   "execution_count": 15,
   "id": "hawaiian-bryan",
   "metadata": {},
   "outputs": [],
   "source": [
    "# son las 12:15\n",
    "time_hours = 12\n",
    "time_minutes = 15"
   ]
  },
  {
   "cell_type": "code",
   "execution_count": null,
   "id": "biblical-style",
   "metadata": {},
   "outputs": [],
   "source": []
  }
 ],
 "metadata": {
  "kernelspec": {
   "display_name": "Python 3 (ipykernel)",
   "language": "python",
   "name": "python3"
  },
  "language_info": {
   "codemirror_mode": {
    "name": "ipython",
    "version": 3
   },
   "file_extension": ".py",
   "mimetype": "text/x-python",
   "name": "python",
   "nbconvert_exporter": "python",
   "pygments_lexer": "ipython3",
   "version": "3.9.0"
  }
 },
 "nbformat": 4,
 "nbformat_minor": 5
}