{
 "cells": [
  {
   "cell_type": "markdown",
   "metadata": {
    "slideshow": {
     "slide_type": "slide"
    }
   },
   "source": [
    "# C\u00f3digo Python en cuadernos Jupyter\n",
    "El c\u00f3digo Python puede escribirse en archivos \".py\", que pueden ejecutarse desde la l\u00ednea de comandos. Adem\u00e1s, con fines acad\u00e9micos, se suelen utilizar [cuadernos Jupyter](https://jupyter-notebook.readthedocs.io/en/stable/) para documentar lo que hace el c\u00f3digo y agregar explicaciones adicionales y enlaces a recursos.\n",
    "\n",
    "Ver tambi\u00e9n\n",
    "* [Documentaci\u00f3n de Python 3](https://docs.python.org/3)\n",
    "* [Fundamentos de Python por Carpentries](https://swcarpentry.github.io/python-novice-inflammation/)\n",
    "* [Tutoriales de Python para procesamiento de im\u00e1genes y aprendizaje autom\u00e1tico por Digital Sreeni](https://www.youtube.com/playlist?list=PLZsOBAyNTZwYHBIlu_PUO19M7aHMgwBJr)\n",
    "\n",
    "Para escribir nuestro primer peque\u00f1o programa en Python, escribimos en la celda de c\u00f3digo del cuaderno Jupyter a continuaci\u00f3n. Puedes hacer doble clic en esta celda, cambiar el c\u00f3digo y ejecutarlo presionando SHIFT+ENTER:"
   ]
  },
  {
   "cell_type": "code",
   "execution_count": 2,
   "metadata": {},
   "outputs": [
    {
     "name": "stdout",
     "output_type": "stream",
     "text": [
      "Hello world\n"
     ]
    }
   ],
   "source": [
    "print(\"Hello world\")"
   ]
  },
  {
   "cell_type": "markdown",
   "metadata": {},
   "source": [
    "* Cuando se trabaja con cuadernos Jupyter, obviamente SHIFT-ENTER es **el** atajo que la gente usa todo el tiempo. \n",
    "* Si quieres \"salir\" de una celda sin ejecutarla, tambi\u00e9n puedes presionar ESCAPE. \n",
    "* Puedes agregar una nueva celda **a**rriba de la celda actual presionando A y **a**bajo presionando B. \n",
    "* Puedes eliminar celdas presionando D.\n",
    "\n",
    "Hay m\u00e1s atajos. Puedes verlos todos en el men\u00fa arriba en Ayuda > Atajos de teclado o presionando H.\n",
    "\n",
    "\u00a1Pru\u00e9balo!"
   ]
  },
  {
   "cell_type": "code",
   "execution_count": null,
   "metadata": {},
   "outputs": [],
   "source": []
  },
  {
   "cell_type": "code",
   "execution_count": null,
   "metadata": {},
   "outputs": [],
   "source": []
  },
  {
   "cell_type": "code",
   "execution_count": null,
   "metadata": {},
   "outputs": [],
   "source": []
  },
  {
   "cell_type": "markdown",
   "metadata": {
    "slideshow": {
     "slide_type": "slide"
    }
   },
   "source": [
    "## Documentaci\u00f3n Markdown en cuadernos Jupyter\n",
    "Markdown es un lenguaje de codificaci\u00f3n para describir el **formato** ~de~ *texto*. Para ver el c\u00f3digo markdown que describe este texto, haz doble clic en esta celda en tu cuaderno Jupyter. Presiona SHIFT+ENTER para volver al modo de visualizaci\u00f3n.\n",
    "\n",
    "* Punto de vi\u00f1eta\n",
    "* M\u00e1s puntos de vi\u00f1eta\n",
    "  * Puntos de vi\u00f1eta m\u00e1s profundos\n",
    "\n",
    "1. Entrada de lista\n",
    "2. Otra entrada de lista\n",
    "4. M\u00e1s entradas de lista\n",
    "8. [Hoja de trucos de Markdown](https://github.com/adam-p/markdown-here/wiki/Markdown-Cheatsheet)"
   ]
  },
  {
   "cell_type": "markdown",
   "metadata": {},
   "source": [
    "# Ejercicio\n",
    "Agrega una nueva celda de c\u00f3digo Python abajo y usa el comando `print` para imprimir tu nombre."
   ]
  }
 ],
 "metadata": {
  "kernelspec": {
   "display_name": "Python 3 (ipykernel)",
   "language": "python",
   "name": "python3"
  },
  "language_info": {
   "codemirror_mode": {
    "name": "ipython",
    "version": 3
   },
   "file_extension": ".py",
   "mimetype": "text/x-python",
   "name": "python",
   "nbconvert_exporter": "python",
   "pygments_lexer": "ipython3",
   "version": "3.9.0"
  }
 },
 "nbformat": 4,
 "nbformat_minor": 4
}