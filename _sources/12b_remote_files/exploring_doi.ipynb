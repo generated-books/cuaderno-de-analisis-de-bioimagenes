{
 "cells": [
  {
   "cell_type": "markdown",
   "id": "13e2e653-e785-4944-b636-c5af8ac8479f",
   "metadata": {},
   "source": [
    "# Lectura de metadatos desde DOI.org\n",
    "En este notebook accederemos a los metadatos de registros en https://doi.org ."
   ]
  },
  {
   "cell_type": "code",
   "execution_count": 1,
   "id": "a9b1e8c9-5e06-469c-9026-fcd051c19f0d",
   "metadata": {},
   "outputs": [],
   "source": [
    "import requests\n",
    "import json"
   ]
  },
  {
   "cell_type": "markdown",
   "id": "7b076f43-2533-4266-887f-760be61820f6",
   "metadata": {},
   "source": [
    "Para esto, escribimos una peque\u00f1a funci\u00f3n auxiliar."
   ]
  },
  {
   "cell_type": "code",
   "execution_count": 2,
   "id": "6d4c61b7-a34d-489c-a8c7-4cc379d0c6a6",
   "metadata": {},
   "outputs": [],
   "source": [
    "def read_doi(doi):\n",
    "    \"\"\"\n",
    "    Reads meta data of records in doi.org.\n",
    "    \"\"\"\n",
    "\n",
    "    doi = doi.replace(\"https://doi.org/\", \"\")\n",
    "    url = \"https://doi.org/api/handles/\" + doi\n",
    "    \n",
    "    # Download the file\n",
    "    response = requests.get(url)\n",
    "    data = response.json()\n",
    "    return data"
   ]
  },
  {
   "cell_type": "markdown",
   "id": "6b60eef3-afac-441d-ab87-e572bf0ae209",
   "metadata": {},
   "source": [
    "Luego podemos llamar a la funci\u00f3n y almacenar los resultados en un objeto `data`."
   ]
  },
  {
   "cell_type": "code",
   "execution_count": 3,
   "id": "dd0e3c6a-0fb3-4cae-b763-7fc5bb0dd2b8",
   "metadata": {},
   "outputs": [
    {
     "data": {
      "text/plain": [
       "{'responseCode': 1,\n",
       " 'handle': '10.5281/zenodo.3833824',\n",
       " 'values': [{'index': 100,\n",
       "   'type': 'HS_ADMIN',\n",
       "   'data': {'format': 'admin',\n",
       "    'value': {'handle': '10.admin/codata',\n",
       "     'index': 300,\n",
       "     'permissions': '111111111111'}},\n",
       "   'ttl': 86400,\n",
       "   'timestamp': '2020-05-19T10:28:11Z'},\n",
       "  {'index': 1,\n",
       "   'type': 'URL',\n",
       "   'data': {'format': 'string', 'value': 'https://zenodo.org/record/3833824'},\n",
       "   'ttl': 86400,\n",
       "   'timestamp': '2020-05-19T10:28:11Z'}]}"
      ]
     },
     "execution_count": 3,
     "metadata": {},
     "output_type": "execute_result"
    }
   ],
   "source": [
    "data = read_doi(\"https://doi.org/10.5281/zenodo.3833824\")\n",
    "data"
   ]
  },
  {
   "cell_type": "markdown",
   "id": "69457d57-6b3b-481b-9d14-ba8d8a9b0c12",
   "metadata": {},
   "source": [
    "Este objeto [json](https://www.json.org/json-en.html) consiste en diccionarios y listas de Python. Podemos navegar a trav\u00e9s de ellos y extraer informaci\u00f3n."
   ]
  },
  {
   "cell_type": "code",
   "execution_count": 4,
   "id": "59897f15-2db0-4fa3-8029-af8dc9d941de",
   "metadata": {},
   "outputs": [
    {
     "data": {
      "text/plain": [
       "{'index': 100,\n",
       " 'type': 'HS_ADMIN',\n",
       " 'data': {'format': 'admin',\n",
       "  'value': {'handle': '10.admin/codata',\n",
       "   'index': 300,\n",
       "   'permissions': '111111111111'}},\n",
       " 'ttl': 86400,\n",
       " 'timestamp': '2020-05-19T10:28:11Z'}"
      ]
     },
     "execution_count": 4,
     "metadata": {},
     "output_type": "execute_result"
    }
   ],
   "source": [
    "data['values'][0]"
   ]
  },
  {
   "cell_type": "markdown",
   "id": "9ce5a0f4-bbbe-4b18-92bb-3dfe9f5e1dc5",
   "metadata": {},
   "source": [
    "## Ejercicio \n",
    "Averigua el/los autor(es) del DOI anterior."
   ]
  }
 ],
 "metadata": {
  "kernelspec": {
   "display_name": "Python 3 (ipykernel)",
   "language": "python",
   "name": "python3"
  },
  "language_info": {
   "codemirror_mode": {
    "name": "ipython",
    "version": 3
   },
   "file_extension": ".py",
   "mimetype": "text/x-python",
   "name": "python",
   "nbconvert_exporter": "python",
   "pygments_lexer": "ipython3",
   "version": "3.9.16"
  }
 },
 "nbformat": 4,
 "nbformat_minor": 5
}