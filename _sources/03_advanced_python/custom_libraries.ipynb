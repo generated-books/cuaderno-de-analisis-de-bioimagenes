{
 "cells": [
  {
   "cell_type": "markdown",
   "id": "directed-compensation",
   "metadata": {},
   "source": [
    "# Bibliotecas personalizadas\n",
    "Cuando programas en Python durante alg\u00fan tiempo, es posible que utilices el mismo c\u00f3digo una y otra vez. Podr\u00edas copiarlo y pegarlo de un cuaderno Jupyter a otro. Sin embargo, los cuadernos no est\u00e1n dise\u00f1ados para contener muchas funciones. Los cuadernos est\u00e1n destinados a mostrar ejemplos cortos y concisos de c\u00f3digo. Por lo tanto, para organizar nuestro c\u00f3digo, podemos poner las funciones que usamos con m\u00e1s frecuencia en un archivo Python, una biblioteca personalizada, y luego importar las funciones.\n",
    "\n",
    "Ver tambi\u00e9n:\n",
    "* [El sistema de importaci\u00f3n](https://docs.python.org/3/reference/import.html)\n",
    "\n",
    "En la misma carpeta, existe un archivo [my_library.py](my_library.py). Contiene dos funciones. Vamos a importarlas y usarlas:"
   ]
  },
  {
   "cell_type": "code",
   "execution_count": 1,
   "id": "collaborative-leisure",
   "metadata": {},
   "outputs": [],
   "source": [
    "from my_library import square"
   ]
  },
  {
   "cell_type": "code",
   "execution_count": 2,
   "id": "compressed-chassis",
   "metadata": {},
   "outputs": [
    {
     "data": {
      "text/plain": [
       "25"
      ]
     },
     "execution_count": 2,
     "metadata": {},
     "output_type": "execute_result"
    }
   ],
   "source": [
    "square(5)"
   ]
  },
  {
   "cell_type": "code",
   "execution_count": 4,
   "id": "coastal-franklin",
   "metadata": {},
   "outputs": [],
   "source": [
    "from my_library import *"
   ]
  },
  {
   "cell_type": "code",
   "execution_count": 5,
   "id": "defensive-small",
   "metadata": {},
   "outputs": [
    {
     "data": {
      "text/plain": [
       "2.449489742783178"
      ]
     },
     "execution_count": 5,
     "metadata": {},
     "output_type": "execute_result"
    }
   ],
   "source": [
    "wuzzle(5)"
   ]
  },
  {
   "cell_type": "markdown",
   "id": "aggregate-invalid",
   "metadata": {},
   "source": [
    "Al mantener tu propia biblioteca de funciones, aseg\u00farate de que las funciones tengan nombres razonables y docstrings \u00fatiles. De lo contrario, podr\u00edas confundirte con tu propio c\u00f3digo m\u00e1s adelante.\n",
    "\n",
    "Este es un buen ejemplo:"
   ]
  },
  {
   "cell_type": "code",
   "execution_count": 6,
   "id": "catholic-afternoon",
   "metadata": {},
   "outputs": [
    {
     "name": "stdout",
     "output_type": "stream",
     "text": [
      "\n",
      "    Squares a number by multiplying it with itself  and returns its result.\n",
      "    \n"
     ]
    }
   ],
   "source": [
    "print(square.__doc__)"
   ]
  },
  {
   "cell_type": "markdown",
   "id": "textile-cricket",
   "metadata": {},
   "source": [
    "Este es un mal ejemplo:"
   ]
  },
  {
   "cell_type": "code",
   "execution_count": 8,
   "id": "lesbian-candy",
   "metadata": {},
   "outputs": [
    {
     "name": "stdout",
     "output_type": "stream",
     "text": [
      "\n",
      "    The wuzzle function manipulates a number in a magic way and returns the result.\n",
      "    \n"
     ]
    }
   ],
   "source": [
    "print(wuzzle.__doc__)"
   ]
  },
  {
   "cell_type": "markdown",
   "id": "approved-violence",
   "metadata": {},
   "source": [
    "## Modificar c\u00f3digo en bibliotecas personalizadas\n",
    "Si modificas el c\u00f3digo en un archivo de biblioteca Python junto con el c\u00f3digo en un cuaderno, es posible que tengas que reiniciar tu cuaderno despu\u00e9s de modificar el archivo de la biblioteca. Puedes hacer esto en el men\u00fa `Kernel > Restart & Run All`."
   ]
  },
  {
   "cell_type": "markdown",
   "id": "liable-press",
   "metadata": {},
   "source": [
    "# Ejercicio\n",
    "Crea tu propia biblioteca y escribe una funci\u00f3n que pueda calcular la [distancia euclidiana](https://es.wikipedia.org/wiki/Distancia_euclidiana) entre dos puntos. Las coordenadas de los puntos se dan como tuplas. Pista: Necesitar\u00e1s un bucle for en esta funci\u00f3n que itere por pares sobre las dos coordenadas:"
   ]
  },
  {
   "cell_type": "code",
   "execution_count": 9,
   "id": "worse-reggae",
   "metadata": {},
   "outputs": [],
   "source": [
    "p = (1.5, 6.4, 7.3)\n",
    "q = (3.4, 1.0, 0.9)"
   ]
  },
  {
   "cell_type": "code",
   "execution_count": null,
   "id": "confident-incidence",
   "metadata": {},
   "outputs": [],
   "source": []
  }
 ],
 "metadata": {
  "kernelspec": {
   "display_name": "Python 3",
   "language": "python",
   "name": "python3"
  },
  "language_info": {
   "codemirror_mode": {
    "name": "ipython",
    "version": 3
   },
   "file_extension": ".py",
   "mimetype": "text/x-python",
   "name": "python",
   "nbconvert_exporter": "python",
   "pygments_lexer": "ipython3",
   "version": "3.9.4"
  }
 },
 "nbformat": 4,
 "nbformat_minor": 5
}